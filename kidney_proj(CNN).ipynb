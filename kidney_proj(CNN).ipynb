{
  "nbformat": 4,
  "nbformat_minor": 0,
  "metadata": {
    "colab": {
      "provenance": []
    },
    "kernelspec": {
      "name": "python3",
      "display_name": "Python 3"
    },
    "language_info": {
      "name": "python"
    }
  },
  "cells": [
    {
      "cell_type": "code",
      "execution_count": null,
      "metadata": {
        "id": "qFsF3bXU1kIz"
      },
      "outputs": [],
      "source": [
        "import tensorflow as tf\n",
        "from tensorflow import keras\n",
        "from tensorflow.keras import layers\n",
        "from tensorflow.keras.preprocessing.image import ImageDataGenerator\n",
        "#define imag &batch size\n",
        "IMG_SIZE=224\n",
        "BATCH_SIZE=32"
      ]
    },
    {
      "cell_type": "code",
      "source": [
        "#define datagenerator for train,validation and test sets\n",
        "train_datagen=ImageDataGenerator(rescale=1./255,validation_split=0.2)"
      ],
      "metadata": {
        "id": "4sKltz7W9SmG"
      },
      "execution_count": null,
      "outputs": []
    },
    {
      "cell_type": "code",
      "source": [
        "\n",
        "train_generator=train_datagen.flow_from_directory('/content/drive/MyDrive/dataset/kidneyset/train',\n",
        "                                                  target_size=(IMG_SIZE,IMG_SIZE),\n",
        "                                                  batch_size=BATCH_SIZE,\n",
        "                                                  class_mode='binary',\n",
        "                                                  subset='training')\n",
        "val_generator = train_datagen.flow_from_directory('/content/drive/MyDrive/dataset/kidneyset/train',\n",
        "    target_size=(IMG_SIZE, IMG_SIZE),\n",
        "    batch_size=BATCH_SIZE,\n",
        "    class_mode='binary',\n",
        "    subset='validation'\n",
        ")\n",
        "\n",
        "test_datagen = ImageDataGenerator(rescale=1./255)\n",
        "test_generator = test_datagen.flow_from_directory('/content/drive/MyDrive/dataset/kidneyset/train',\n",
        "    target_size=(IMG_SIZE, IMG_SIZE),\n",
        "    batch_size=BATCH_SIZE,\n",
        "    class_mode='binary'\n",
        ")\n"
      ],
      "metadata": {
        "colab": {
          "base_uri": "https://localhost:8080/"
        },
        "id": "4XWBQS1p2216",
        "outputId": "4812eb32-f50d-4765-d502-ed495b203913"
      },
      "execution_count": null,
      "outputs": [
        {
          "output_type": "stream",
          "name": "stdout",
          "text": [
            "Found 198 images belonging to 2 classes.\n",
            "Found 48 images belonging to 2 classes.\n",
            "Found 246 images belonging to 2 classes.\n"
          ]
        }
      ]
    },
    {
      "cell_type": "code",
      "source": [
        "# Define the model\n",
        "model = keras.Sequential([\n",
        "    layers.Conv2D(32, (3, 3), activation='relu', input_shape=(IMG_SIZE, IMG_SIZE, 3)),\n",
        "    layers.MaxPooling2D((2, 2)),\n",
        "    layers.Conv2D(64, (3, 3), activation='relu'),\n",
        "    layers.MaxPooling2D((2, 2)),\n",
        "    layers.Conv2D(128, (3, 3), activation='relu'),\n",
        "    layers.MaxPooling2D((2, 2)),\n",
        "    layers.Flatten(),\n",
        "    layers.Dense(128, activation='relu'),\n",
        "    layers.Dense(1, activation='sigmoid')\n",
        "])"
      ],
      "metadata": {
        "id": "C-MGvE3W-Dn6"
      },
      "execution_count": null,
      "outputs": []
    },
    {
      "cell_type": "code",
      "source": [
        "# Compile the model\n",
        "model.compile(optimizer='adam', loss='binary_crossentropy', metrics=['accuracy'])\n",
        "\n",
        "history = model.fit(train_generator,validation_data=val_generator,epochs=5)\n",
        "\n",
        "model.save(\"kidney.h5\",\"label.txt\")\n"
      ],
      "metadata": {
        "colab": {
          "base_uri": "https://localhost:8080/"
        },
        "id": "vKq4a8z73qZa",
        "outputId": "29c8b021-e96c-4f79-c5d6-f175d5c97338"
      },
      "execution_count": null,
      "outputs": [
        {
          "output_type": "stream",
          "name": "stdout",
          "text": [
            "Epoch 1/5\n",
            "7/7 [==============================] - 40s 6s/step - loss: 1.0894 - accuracy: 0.5051 - val_loss: 0.7071 - val_accuracy: 0.5000\n",
            "Epoch 2/5\n",
            "7/7 [==============================] - 23s 3s/step - loss: 0.6735 - accuracy: 0.7071 - val_loss: 0.6760 - val_accuracy: 0.7083\n",
            "Epoch 3/5\n",
            "7/7 [==============================] - 22s 3s/step - loss: 0.5726 - accuracy: 0.7929 - val_loss: 0.6169 - val_accuracy: 0.6250\n",
            "Epoch 4/5\n",
            "7/7 [==============================] - 22s 3s/step - loss: 0.4426 - accuracy: 0.7980 - val_loss: 0.8787 - val_accuracy: 0.5833\n",
            "Epoch 5/5\n",
            "7/7 [==============================] - 23s 3s/step - loss: 0.3523 - accuracy: 0.8434 - val_loss: 0.5974 - val_accuracy: 0.6667\n"
          ]
        },
        {
          "output_type": "stream",
          "name": "stderr",
          "text": [
            "/usr/local/lib/python3.10/dist-packages/keras/src/engine/training.py:3103: UserWarning: You are saving your model as an HDF5 file via `model.save()`. This file format is considered legacy. We recommend using instead the native Keras format, e.g. `model.save('my_model.keras')`.\n",
            "  saving_api.save_model(\n"
          ]
        }
      ]
    },
    {
      "cell_type": "code",
      "source": [
        "import tensorflow as tf\n",
        "from tensorflow.keras.models import load_model\n",
        "from tensorflow.keras.preprocessing import image\n",
        "import numpy as np\n",
        "#load the save model\n",
        "model=load_model('/content/drive/MyDrive/kidney.h5')\n",
        "#load and preprocess the test image\n",
        "test_image_path='/content/drive/MyDrive/dataset/kidneyset/train/yes/1-3-46-670589-33-1-63700700750188529100001-5659992199131706929_png_jpg.rf.32f57db5f742576e560a82af2a4666e7.jpg'\n",
        "img=image.load_img(test_image_path,target_size=(224,224))\n",
        "img_array=image.img_to_array(img)\n",
        "img_array=np.expand_dims(img_array,axis=0)#add batch dimension\n",
        "img_array/=255.#normalize pixel values\n",
        "#make predictions\n",
        "prediction=model.predict(img_array)\n",
        "#print the prediction\n",
        "if prediction<0.5:\n",
        "  print(\"prediction: no kidney stones present(probability:\",prediction[0][0],\")\")\n",
        "else:\n",
        "   print(\"prediction:  kidney stones present(probability:\",prediction[0][0],\")\")\n"
      ],
      "metadata": {
        "colab": {
          "base_uri": "https://localhost:8080/"
        },
        "id": "1Q4G_J3GFMiw",
        "outputId": "c741d8ca-47b5-412e-ddc3-3220d595180e"
      },
      "execution_count": null,
      "outputs": [
        {
          "output_type": "stream",
          "name": "stdout",
          "text": [
            "1/1 [==============================] - 0s 105ms/step\n",
            "prediction:  kidney stones present(probability: 0.5146439 )\n"
          ]
        }
      ]
    },
    {
      "cell_type": "code",
      "source": [],
      "metadata": {
        "id": "lbQ4T85JIW_Q"
      },
      "execution_count": null,
      "outputs": []
    }
  ]
}