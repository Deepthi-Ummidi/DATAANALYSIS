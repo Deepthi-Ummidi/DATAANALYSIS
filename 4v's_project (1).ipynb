{
  "nbformat": 4,
  "nbformat_minor": 0,
  "metadata": {
    "colab": {
      "provenance": []
    },
    "kernelspec": {
      "name": "python3",
      "display_name": "Python 3"
    },
    "language_info": {
      "name": "python"
    }
  },
  "cells": [
    {
      "cell_type": "code",
      "execution_count": 2,
      "metadata": {
        "colab": {
          "base_uri": "https://localhost:8080/"
        },
        "id": "qBqXJif8URhX",
        "outputId": "3d4c02de-71e6-4383-8fed-fe9bc651ea22"
      },
      "outputs": [
        {
          "output_type": "stream",
          "name": "stdout",
          "text": [
            "volume of data: 10000\n"
          ]
        }
      ],
      "source": [
        "import pandas as pd\n",
        "#generate a large volume of random data(eg. 1 millon data points)\n",
        "volume_data = pd.read_csv('/content/drive/MyDrive/dataset/pandas dataset.csv')\n",
        "print(\"volume of data:\",len(volume_data))\n"
      ]
    },
    {
      "cell_type": "code",
      "source": [
        "import time\n",
        "import numpy as np\n",
        "#simulate streaming data every second for 10 seconds\n",
        "velocity_data = pd.read_csv('/content/drive/MyDrive/dataset/pandas dataset.csv', sep =',')\n",
        "for i in range(10):\n",
        "  velocity_data=np.random.rand( )#generate random data\n",
        "  print(\"velocity data point:\",velocity_data)\n",
        "  time.sleep(2)#wait for 1 second to simulate real-time data stream"
      ],
      "metadata": {
        "colab": {
          "base_uri": "https://localhost:8080/"
        },
        "id": "zYiAI30ZUyP1",
        "outputId": "65aa1c9f-fb03-4782-ddce-519ad9880f37"
      },
      "execution_count": 4,
      "outputs": [
        {
          "output_type": "stream",
          "name": "stdout",
          "text": [
            "velocity data point: 0.9240648802616722\n",
            "velocity data point: 0.19863976076907053\n",
            "velocity data point: 0.11555573219151638\n",
            "velocity data point: 0.8771965915179214\n",
            "velocity data point: 0.8660578741604241\n",
            "velocity data point: 0.19977814585262266\n",
            "velocity data point: 0.7526692873302232\n",
            "velocity data point: 0.97268184570984\n",
            "velocity data point: 0.42001809019732983\n",
            "velocity data point: 0.9316869425702833\n"
          ]
        }
      ]
    },
    {
      "cell_type": "code",
      "source": [
        "import pandas as pd\n",
        "import random\n",
        "#generate some random data with noise\n",
        "veracity_data = pd.read_csv('/content/drive/MyDrive/dataset/pandas dataset.csv', sep =',')\n",
        "veracity_data=[random.choice([1,2,3,None])for _ in range(20)]\n",
        "print(\"veracity data:\",veracity_data)"
      ],
      "metadata": {
        "colab": {
          "base_uri": "https://localhost:8080/"
        },
        "id": "4oWif3cDVFky",
        "outputId": "9a347c8c-a158-48a2-d6b3-677181bb9836"
      },
      "execution_count": 5,
      "outputs": [
        {
          "output_type": "stream",
          "name": "stdout",
          "text": [
            "veracity data: [1, None, None, None, 1, None, 2, None, 3, None, 1, 2, 1, None, None, None, 1, 2, None, 1]\n"
          ]
        }
      ]
    },
    {
      "cell_type": "code",
      "source": [
        "structured_data = pd.read_csv('/content/drive/MyDrive/dataset/pandas dataset.csv', sep =',')\n",
        "#structured data\n",
        "print(structured_data)\n",
        "#semi-structured data(JSON)\n",
        "semistructured_data = pd.read_csv('/content/drive/MyDrive/dataset/pandas dataset.csv', sep =',')\n",
        "print(semistructured_data)\n",
        "#unstructured data(text)\n",
        "unstructured_data=\"This is a sample text document.It can contain any information in free form\"\n",
        "print(unstructured_data)"
      ],
      "metadata": {
        "colab": {
          "base_uri": "https://localhost:8080/"
        },
        "id": "t6lFBHQGVZBM",
        "outputId": "93c08201-9d93-42bf-ab8b-8932fd807ca5"
      },
      "execution_count": 7,
      "outputs": [
        {
          "output_type": "stream",
          "name": "stdout",
          "text": [
            "         id  Gender   Age     Class  Flight Distance  Food and drink  \\\n",
            "0     19556  Female  52.0       Eco            160.0             3.0   \n",
            "1     90035  Female  36.0  Business           2863.0             5.0   \n",
            "2     12360    Male  20.0       Eco            192.0             2.0   \n",
            "3     77959    Male  44.0  Business           3377.0             3.0   \n",
            "4     36875     NaN  49.0       Eco           1182.0             4.0   \n",
            "...     ...     ...   ...       ...              ...             ...   \n",
            "9995  53434  Female  20.0  Business           2288.0             5.0   \n",
            "9996  55197  Female  19.0  Eco Plus           1635.0             1.0   \n",
            "9997  42997  Female  52.0  Business            192.0             3.0   \n",
            "9998  27031    Male  46.0  Eco Plus            867.0             3.0   \n",
            "9999  75613     NaN  67.0       Eco            337.0             1.0   \n",
            "\n",
            "      On-board service  Checkin service  Cleanliness             satisfaction  \n",
            "0                  5.0              2.0          5.0                satisfied  \n",
            "1                  4.0              3.0          5.0                satisfied  \n",
            "2                  4.0              2.0          2.0  neutral or dissatisfied  \n",
            "3                  1.0              3.0          4.0                satisfied  \n",
            "4                  2.0              4.0          4.0                satisfied  \n",
            "...                ...              ...          ...                      ...  \n",
            "9995               3.0              2.0          5.0                satisfied  \n",
            "9996               5.0              5.0          1.0  neutral or dissatisfied  \n",
            "9997               5.0              3.0          3.0  neutral or dissatisfied  \n",
            "9998               4.0              5.0          3.0                satisfied  \n",
            "9999               5.0              3.0          1.0  neutral or dissatisfied  \n",
            "\n",
            "[10000 rows x 10 columns]\n",
            "         id  Gender   Age     Class  Flight Distance  Food and drink  \\\n",
            "0     19556  Female  52.0       Eco            160.0             3.0   \n",
            "1     90035  Female  36.0  Business           2863.0             5.0   \n",
            "2     12360    Male  20.0       Eco            192.0             2.0   \n",
            "3     77959    Male  44.0  Business           3377.0             3.0   \n",
            "4     36875     NaN  49.0       Eco           1182.0             4.0   \n",
            "...     ...     ...   ...       ...              ...             ...   \n",
            "9995  53434  Female  20.0  Business           2288.0             5.0   \n",
            "9996  55197  Female  19.0  Eco Plus           1635.0             1.0   \n",
            "9997  42997  Female  52.0  Business            192.0             3.0   \n",
            "9998  27031    Male  46.0  Eco Plus            867.0             3.0   \n",
            "9999  75613     NaN  67.0       Eco            337.0             1.0   \n",
            "\n",
            "      On-board service  Checkin service  Cleanliness             satisfaction  \n",
            "0                  5.0              2.0          5.0                satisfied  \n",
            "1                  4.0              3.0          5.0                satisfied  \n",
            "2                  4.0              2.0          2.0  neutral or dissatisfied  \n",
            "3                  1.0              3.0          4.0                satisfied  \n",
            "4                  2.0              4.0          4.0                satisfied  \n",
            "...                ...              ...          ...                      ...  \n",
            "9995               3.0              2.0          5.0                satisfied  \n",
            "9996               5.0              5.0          1.0  neutral or dissatisfied  \n",
            "9997               5.0              3.0          3.0  neutral or dissatisfied  \n",
            "9998               4.0              5.0          3.0                satisfied  \n",
            "9999               5.0              3.0          1.0  neutral or dissatisfied  \n",
            "\n",
            "[10000 rows x 10 columns]\n",
            "This is a sample text document.It can contain any information in free form\n"
          ]
        }
      ]
    }
  ]
}