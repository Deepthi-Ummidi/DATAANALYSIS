{
  "nbformat": 4,
  "nbformat_minor": 0,
  "metadata": {
    "colab": {
      "provenance": []
    },
    "kernelspec": {
      "name": "python3",
      "display_name": "Python 3"
    },
    "language_info": {
      "name": "python"
    }
  },
  "cells": [
    {
      "cell_type": "code",
      "execution_count": 2,
      "metadata": {
        "colab": {
          "base_uri": "https://localhost:8080/"
        },
        "id": "w2PyHwcMVNAj",
        "outputId": "c28c91ce-f01c-42d5-aa0f-428951bdecfe"
      },
      "outputs": [
        {
          "output_type": "stream",
          "name": "stdout",
          "text": [
            "Date: 2024-03-01, Open: 179.5500, High: 180.5300, Low: 177.3800, Close: 179.6600, Volume: 73563082\n",
            "Date: 2024-02-29, Open: 181.2700, High: 182.5700, Low: 179.5300, Close: 180.7500, Volume: 136682597\n",
            "Date: 2024-02-28, Open: 182.5100, High: 183.1200, Low: 180.1300, Close: 181.4200, Volume: 48953939\n",
            "Date: 2024-02-27, Open: 181.1000, High: 183.9225, Low: 179.5600, Close: 182.6300, Volume: 54318851\n",
            "Date: 2024-02-26, Open: 182.2400, High: 182.7600, Low: 180.6500, Close: 181.1600, Volume: 40867421\n"
          ]
        }
      ],
      "source": [
        "import requests\n",
        "# Replace 'YOUR_API_KEY' with your actual API key from Alpha Vantage\n",
        "API_KEY = 'CD6YXPC6BO2EU69J.'\n",
        "# Function to fetch stock data from Alpha Vantage\n",
        "def fetch_stock_data(symbol):\n",
        "    url = f'https://www.alphavantage.co/query?function=TIME_SERIES_DAILY&symbol={symbol}&apikey={API_KEY}'\n",
        "    response = requests.get(url)\n",
        "    if response.status_code == 200:\n",
        "        data = response.json()\n",
        "        # Extracting daily stock data\n",
        "        daily_data = data['Time Series (Daily)']\n",
        "        # Printing the first five entries\n",
        "        for date, values in list(daily_data.items())[:5]:\n",
        "            print(f\"Date: {date}, Open: {values['1. open']}, High: {values['2. high']}, Low: {values['3. low']}, Close: {values['4. close']}, Volume: {values['5. volume']}\")\n",
        "    else:\n",
        "        print('Error fetching data')\n",
        "\n",
        "# Example usage\n",
        "fetch_stock_data('AAPL')  # Replace 'AAPL' with any other stock symbol"
      ]
    }
  ]
}